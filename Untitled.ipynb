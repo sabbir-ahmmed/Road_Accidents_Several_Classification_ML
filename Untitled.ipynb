{
 "cells": [
  {
   "cell_type": "code",
   "execution_count": 2,
   "id": "e57261f8-4c59-47f7-aee0-dd872dca76d9",
   "metadata": {},
   "outputs": [
    {
     "ename": "SyntaxError",
     "evalue": "invalid syntax (3638225874.py, line 1)",
     "output_type": "error",
     "traceback": [
      "\u001b[1;36m  Cell \u001b[1;32mIn[2], line 1\u001b[1;36m\u001b[0m\n\u001b[1;33m    pip install numpy\u001b[0m\n\u001b[1;37m        ^\u001b[0m\n\u001b[1;31mSyntaxError\u001b[0m\u001b[1;31m:\u001b[0m invalid syntax\n"
     ]
    }
   ],
   "source": [
    "pip install numpy\n",
    "pip install pandas"
   ]
  },
  {
   "cell_type": "code",
   "execution_count": 3,
   "id": "89bc7202-4620-4f59-92ea-f5e44f7f2786",
   "metadata": {},
   "outputs": [
    {
     "name": "stdout",
     "output_type": "stream",
     "text": [
      "Collecting pandasNote: you may need to restart the kernel to use updated packages.\n"
     ]
    },
    {
     "name": "stderr",
     "output_type": "stream",
     "text": [
      "\n",
      "[notice] A new release of pip is available: 24.1 -> 24.2\n",
      "[notice] To update, run: python.exe -m pip install --upgrade pip\n"
     ]
    },
    {
     "name": "stdout",
     "output_type": "stream",
     "text": [
      "\n",
      "  Using cached pandas-2.2.2-cp312-cp312-win_amd64.whl.metadata (19 kB)\n",
      "Requirement already satisfied: numpy>=1.26.0 in e:\\note\\project\\road_accidents_several_classification_ml\\myenv\\lib\\site-packages (from pandas) (2.1.0)\n",
      "Requirement already satisfied: python-dateutil>=2.8.2 in e:\\note\\project\\road_accidents_several_classification_ml\\myenv\\lib\\site-packages (from pandas) (2.9.0.post0)\n",
      "Collecting pytz>=2020.1 (from pandas)\n",
      "  Using cached pytz-2024.1-py2.py3-none-any.whl.metadata (22 kB)\n",
      "Collecting tzdata>=2022.7 (from pandas)\n",
      "  Using cached tzdata-2024.1-py2.py3-none-any.whl.metadata (1.4 kB)\n",
      "Requirement already satisfied: six>=1.5 in e:\\note\\project\\road_accidents_several_classification_ml\\myenv\\lib\\site-packages (from python-dateutil>=2.8.2->pandas) (1.16.0)\n",
      "Using cached pandas-2.2.2-cp312-cp312-win_amd64.whl (11.5 MB)\n",
      "Using cached pytz-2024.1-py2.py3-none-any.whl (505 kB)\n",
      "Using cached tzdata-2024.1-py2.py3-none-any.whl (345 kB)\n",
      "Installing collected packages: pytz, tzdata, pandas\n",
      "Successfully installed pandas pytz tzdata\n"
     ]
    }
   ],
   "source": [
    "pip install pandas"
   ]
  },
  {
   "cell_type": "code",
   "execution_count": 6,
   "id": "b5b747ac-1d12-4bb0-b2a0-412e58768541",
   "metadata": {},
   "outputs": [
    {
     "name": "stdout",
     "output_type": "stream",
     "text": [
      "Package                   Version\n",
      "------------------------- --------------\n",
      "anyio                     4.4.0\n",
      "argon2-cffi               23.1.0\n",
      "argon2-cffi-bindings      21.2.0\n",
      "arrow                     1.3.0\n",
      "asttokens                 2.4.1\n",
      "async-lru                 2.0.4\n",
      "attrs                     24.2.0\n",
      "babel                     2.16.0\n",
      "beautifulsoup4            4.12.3\n",
      "bleach                    6.1.0\n",
      "certifi                   2024.7.4\n",
      "cffi                      1.17.0\n",
      "charset-normalizer        3.3.2\n",
      "colorama                  0.4.6\n",
      "comm                      0.2.2\n",
      "contourpy                 1.2.1\n",
      "cycler                    0.12.1\n",
      "debugpy                   1.8.5\n",
      "decorator                 5.1.1\n",
      "defusedxml                0.7.1\n",
      "executing                 2.0.1\n",
      "fastjsonschema            2.20.0\n",
      "fonttools                 4.53.1\n",
      "fqdn                      1.5.1\n",
      "h11                       0.14.0\n",
      "httpcore                  1.0.5\n",
      "httpx                     0.27.0\n",
      "idna                      3.8\n",
      "imbalanced-learn          0.12.3\n",
      "ipykernel                 6.29.5\n",
      "ipython                   8.26.0\n",
      "ipywidgets                8.1.5\n",
      "isoduration               20.11.0\n",
      "jedi                      0.19.1\n",
      "Jinja2                    3.1.4\n",
      "joblib                    1.4.2\n",
      "json5                     0.9.25\n",
      "jsonpointer               3.0.0\n",
      "jsonschema                4.23.0\n",
      "jsonschema-specifications 2023.12.1\n",
      "jupyter                   1.0.0\n",
      "jupyter_client            8.6.2\n",
      "jupyter-console           6.6.3\n",
      "jupyter_core              5.7.2\n",
      "jupyter-events            0.10.0\n",
      "jupyter-lsp               2.2.5\n",
      "jupyter_server            2.14.2\n",
      "jupyter_server_terminals  0.5.3\n",
      "jupyterlab                4.2.4\n",
      "jupyterlab_pygments       0.3.0\n",
      "jupyterlab_server         2.27.3\n",
      "jupyterlab_widgets        3.0.13\n",
      "kiwisolver                1.4.5\n",
      "MarkupSafe                2.1.5\n",
      "matplotlib                3.9.2\n",
      "matplotlib-inline         0.1.7\n",
      "mistune                   3.0.2\n",
      "nbclient                  0.10.0\n",
      "nbconvert                 7.16.4\n",
      "nbformat                  5.10.4\n",
      "nest-asyncio              1.6.0\n",
      "notebook                  7.2.1\n",
      "notebook_shim             0.2.4\n",
      "numpy                     2.1.0\n",
      "overrides                 7.7.0\n",
      "packaging                 24.1\n",
      "pandas                    2.2.2\n",
      "pandocfilters             1.5.1\n",
      "parso                     0.8.4\n",
      "pillow                    10.4.0\n",
      "pip                       24.1\n",
      "platformdirs              4.2.2\n",
      "prometheus_client         0.20.0\n",
      "prompt_toolkit            3.0.47\n",
      "psutil                    6.0.0\n",
      "pure_eval                 0.2.3\n",
      "pycparser                 2.22\n",
      "Pygments                  2.18.0\n",
      "pyparsing                 3.1.4\n",
      "python-dateutil           2.9.0.post0\n",
      "python-json-logger        2.0.7\n",
      "pytz                      2024.1\n",
      "pywin32                   306\n",
      "pywinpty                  2.0.13\n",
      "PyYAML                    6.0.2\n",
      "pyzmq                     26.2.0\n",
      "qtconsole                 5.5.2\n",
      "QtPy                      2.4.1\n",
      "referencing               0.35.1\n",
      "requests                  2.32.3\n",
      "rfc3339-validator         0.1.4\n",
      "rfc3986-validator         0.1.1\n",
      "rpds-py                   0.20.0\n",
      "scikit-learn              1.5.1\n",
      "scipy                     1.14.1\n",
      "Send2Trash                1.8.3\n",
      "setuptools                73.0.1\n",
      "six                       1.16.0\n",
      "sniffio                   1.3.1\n",
      "soupsieve                 2.6\n",
      "stack-data                0.6.3\n",
      "terminado                 0.18.1\n",
      "threadpoolctl             3.5.0\n",
      "tinycss2                  1.3.0\n",
      "tornado                   6.4.1\n",
      "traitlets                 5.14.3\n",
      "types-python-dateutil     2.9.0.20240821\n",
      "tzdata                    2024.1\n",
      "uri-template              1.3.0\n",
      "urllib3                   2.2.2\n",
      "wcwidth                   0.2.13\n",
      "webcolors                 24.8.0\n",
      "webencodings              0.5.1\n",
      "websocket-client          1.8.0\n",
      "widgetsnbextension        4.0.13\n",
      "Note: you may need to restart the kernel to use updated packages.\n"
     ]
    }
   ],
   "source": [
    "%pip list"
   ]
  },
  {
   "cell_type": "code",
   "execution_count": 2,
   "id": "541a79f0-473f-4c1c-a976-4623a79d7611",
   "metadata": {},
   "outputs": [
    {
     "name": "stdout",
     "output_type": "stream",
     "text": [
      "Collecting matplotlib\n",
      "  Downloading matplotlib-3.9.2-cp312-cp312-win_amd64.whl.metadata (11 kB)\n",
      "Collecting contourpy>=1.0.1 (from matplotlib)\n",
      "  Using cached contourpy-1.2.1-cp312-cp312-win_amd64.whl.metadata (5.8 kB)\n",
      "Collecting cycler>=0.10 (from matplotlib)\n",
      "  Using cached cycler-0.12.1-py3-none-any.whl.metadata (3.8 kB)\n",
      "Collecting fonttools>=4.22.0 (from matplotlib)\n",
      "  Using cached fonttools-4.53.1-cp312-cp312-win_amd64.whl.metadata (165 kB)\n",
      "Collecting kiwisolver>=1.3.1 (from matplotlib)\n",
      "  Using cached kiwisolver-1.4.5-cp312-cp312-win_amd64.whl.metadata (6.5 kB)\n",
      "Requirement already satisfied: numpy>=1.23 in e:\\note\\project\\road_accidents_several_classification_ml\\myenv\\lib\\site-packages (from matplotlib) (2.1.0)\n",
      "Requirement already satisfied: packaging>=20.0 in e:\\note\\project\\road_accidents_several_classification_ml\\myenv\\lib\\site-packages (from matplotlib) (24.1)\n",
      "Collecting pillow>=8 (from matplotlib)\n",
      "  Using cached pillow-10.4.0-cp312-cp312-win_amd64.whl.metadata (9.3 kB)\n",
      "Collecting pyparsing>=2.3.1 (from matplotlib)\n",
      "  Downloading pyparsing-3.1.4-py3-none-any.whl.metadata (5.1 kB)\n",
      "Requirement already satisfied: python-dateutil>=2.7 in e:\\note\\project\\road_accidents_several_classification_ml\\myenv\\lib\\site-packages (from matplotlib) (2.9.0.post0)\n",
      "Requirement already satisfied: six>=1.5 in e:\\note\\project\\road_accidents_several_classification_ml\\myenv\\lib\\site-packages (from python-dateutil>=2.7->matplotlib) (1.16.0)\n",
      "Downloading matplotlib-3.9.2-cp312-cp312-win_amd64.whl (7.8 MB)\n",
      "   ---------------------------------------- 0.0/7.8 MB ? eta -:--:--\n",
      "   ---------------------------------------- 0.0/7.8 MB 1.3 MB/s eta 0:00:07\n",
      "   ---------------------------------------- 0.1/7.8 MB 787.7 kB/s eta 0:00:10\n",
      "    --------------------------------------- 0.2/7.8 MB 1.0 MB/s eta 0:00:08\n",
      "   - -------------------------------------- 0.2/7.8 MB 1.1 MB/s eta 0:00:07\n",
      "   - -------------------------------------- 0.3/7.8 MB 1.2 MB/s eta 0:00:07\n",
      "   - -------------------------------------- 0.3/7.8 MB 1.2 MB/s eta 0:00:07\n",
      "   -- ------------------------------------- 0.5/7.8 MB 1.4 MB/s eta 0:00:06\n",
      "   -- ------------------------------------- 0.5/7.8 MB 1.4 MB/s eta 0:00:06\n",
      "   --- ------------------------------------ 0.6/7.8 MB 1.5 MB/s eta 0:00:05\n",
      "   --- ------------------------------------ 0.8/7.8 MB 1.6 MB/s eta 0:00:05\n",
      "   ---- ----------------------------------- 0.8/7.8 MB 1.5 MB/s eta 0:00:05\n",
      "   ---- ----------------------------------- 0.9/7.8 MB 1.6 MB/s eta 0:00:05\n",
      "   ---- ----------------------------------- 1.0/7.8 MB 1.6 MB/s eta 0:00:05\n",
      "   ----- ---------------------------------- 1.1/7.8 MB 1.6 MB/s eta 0:00:05\n",
      "   ----- ---------------------------------- 1.1/7.8 MB 1.6 MB/s eta 0:00:05\n",
      "   ------ --------------------------------- 1.2/7.8 MB 1.6 MB/s eta 0:00:05\n",
      "   ------ --------------------------------- 1.3/7.8 MB 1.6 MB/s eta 0:00:05\n",
      "   ------- -------------------------------- 1.4/7.8 MB 1.6 MB/s eta 0:00:05\n",
      "   ------- -------------------------------- 1.5/7.8 MB 1.6 MB/s eta 0:00:04\n",
      "   ------- -------------------------------- 1.5/7.8 MB 1.6 MB/s eta 0:00:04\n",
      "   -------- ------------------------------- 1.6/7.8 MB 1.6 MB/s eta 0:00:04\n",
      "   -------- ------------------------------- 1.6/7.8 MB 1.6 MB/s eta 0:00:04\n",
      "   --------- ------------------------------ 1.8/7.8 MB 1.6 MB/s eta 0:00:04\n",
      "   --------- ------------------------------ 1.9/7.8 MB 1.6 MB/s eta 0:00:04\n",
      "   --------- ------------------------------ 1.9/7.8 MB 1.6 MB/s eta 0:00:04\n",
      "   ---------- ----------------------------- 2.0/7.8 MB 1.6 MB/s eta 0:00:04\n",
      "   ---------- ----------------------------- 2.1/7.8 MB 1.7 MB/s eta 0:00:04\n",
      "   ----------- ---------------------------- 2.2/7.8 MB 1.6 MB/s eta 0:00:04\n",
      "   ----------- ---------------------------- 2.3/7.8 MB 1.7 MB/s eta 0:00:04\n",
      "   ----------- ---------------------------- 2.3/7.8 MB 1.7 MB/s eta 0:00:04\n",
      "   ------------ --------------------------- 2.4/7.8 MB 1.7 MB/s eta 0:00:04\n",
      "   ------------- -------------------------- 2.5/7.8 MB 1.7 MB/s eta 0:00:04\n",
      "   ------------- -------------------------- 2.7/7.8 MB 1.7 MB/s eta 0:00:04\n",
      "   ------------- -------------------------- 2.7/7.8 MB 1.7 MB/s eta 0:00:04\n",
      "   -------------- ------------------------- 2.8/7.8 MB 1.7 MB/s eta 0:00:03\n",
      "   -------------- ------------------------- 2.9/7.8 MB 1.7 MB/s eta 0:00:03\n",
      "   --------------- ------------------------ 3.0/7.8 MB 1.7 MB/s eta 0:00:03\n",
      "   --------------- ------------------------ 3.0/7.8 MB 1.7 MB/s eta 0:00:03\n",
      "   --------------- ------------------------ 3.0/7.8 MB 1.6 MB/s eta 0:00:03\n",
      "   --------------- ------------------------ 3.1/7.8 MB 1.6 MB/s eta 0:00:03\n",
      "   ---------------- ----------------------- 3.2/7.8 MB 1.7 MB/s eta 0:00:03\n",
      "   ---------------- ----------------------- 3.2/7.8 MB 1.7 MB/s eta 0:00:03\n",
      "   ---------------- ----------------------- 3.3/7.8 MB 1.6 MB/s eta 0:00:03\n",
      "   ----------------- ---------------------- 3.4/7.8 MB 1.6 MB/s eta 0:00:03\n",
      "   ----------------- ---------------------- 3.5/7.8 MB 1.6 MB/s eta 0:00:03\n",
      "   ----------------- ---------------------- 3.5/7.8 MB 1.6 MB/s eta 0:00:03\n",
      "   ------------------ --------------------- 3.6/7.8 MB 1.6 MB/s eta 0:00:03\n",
      "   ------------------ --------------------- 3.7/7.8 MB 1.6 MB/s eta 0:00:03\n",
      "   ------------------- -------------------- 3.8/7.8 MB 1.6 MB/s eta 0:00:03\n",
      "   ------------------- -------------------- 3.9/7.8 MB 1.6 MB/s eta 0:00:03\n",
      "   -------------------- ------------------- 3.9/7.8 MB 1.6 MB/s eta 0:00:03\n",
      "   -------------------- ------------------- 4.0/7.8 MB 1.6 MB/s eta 0:00:03\n",
      "   -------------------- ------------------- 4.1/7.8 MB 1.6 MB/s eta 0:00:03\n",
      "   --------------------- ------------------ 4.2/7.8 MB 1.6 MB/s eta 0:00:03\n",
      "   --------------------- ------------------ 4.2/7.8 MB 1.6 MB/s eta 0:00:03\n",
      "   --------------------- ------------------ 4.2/7.8 MB 1.6 MB/s eta 0:00:03\n",
      "   --------------------- ------------------ 4.2/7.8 MB 1.6 MB/s eta 0:00:03\n",
      "   --------------------- ------------------ 4.3/7.8 MB 1.5 MB/s eta 0:00:03\n",
      "   ---------------------- ----------------- 4.4/7.8 MB 1.6 MB/s eta 0:00:03\n",
      "   ---------------------- ----------------- 4.5/7.8 MB 1.6 MB/s eta 0:00:03\n",
      "   ----------------------- ---------------- 4.6/7.8 MB 1.6 MB/s eta 0:00:03\n",
      "   ----------------------- ---------------- 4.6/7.8 MB 1.6 MB/s eta 0:00:03\n",
      "   ------------------------ --------------- 4.7/7.8 MB 1.6 MB/s eta 0:00:02\n",
      "   ------------------------ --------------- 4.8/7.8 MB 1.6 MB/s eta 0:00:02\n",
      "   ------------------------- -------------- 4.9/7.8 MB 1.6 MB/s eta 0:00:02\n",
      "   ------------------------- -------------- 5.0/7.8 MB 1.6 MB/s eta 0:00:02\n",
      "   -------------------------- ------------- 5.2/7.8 MB 1.6 MB/s eta 0:00:02\n",
      "   --------------------------- ------------ 5.3/7.8 MB 1.6 MB/s eta 0:00:02\n",
      "   --------------------------- ------------ 5.4/7.8 MB 1.7 MB/s eta 0:00:02\n",
      "   ---------------------------- ----------- 5.5/7.8 MB 1.7 MB/s eta 0:00:02\n",
      "   ---------------------------- ----------- 5.6/7.8 MB 1.7 MB/s eta 0:00:02\n",
      "   ----------------------------- ---------- 5.7/7.8 MB 1.7 MB/s eta 0:00:02\n",
      "   ----------------------------- ---------- 5.7/7.8 MB 1.7 MB/s eta 0:00:02\n",
      "   ----------------------------- ---------- 5.7/7.8 MB 1.6 MB/s eta 0:00:02\n",
      "   ------------------------------ --------- 5.9/7.8 MB 1.7 MB/s eta 0:00:02\n",
      "   ------------------------------ --------- 6.0/7.8 MB 1.7 MB/s eta 0:00:02\n",
      "   ------------------------------ --------- 6.0/7.8 MB 1.6 MB/s eta 0:00:02\n",
      "   ------------------------------ --------- 6.0/7.8 MB 1.6 MB/s eta 0:00:02\n",
      "   ------------------------------- -------- 6.2/7.8 MB 1.7 MB/s eta 0:00:01\n",
      "   -------------------------------- ------- 6.4/7.8 MB 1.7 MB/s eta 0:00:01\n",
      "   -------------------------------- ------- 6.4/7.8 MB 1.7 MB/s eta 0:00:01\n",
      "   -------------------------------- ------- 6.5/7.8 MB 1.7 MB/s eta 0:00:01\n",
      "   --------------------------------- ------ 6.5/7.8 MB 1.7 MB/s eta 0:00:01\n",
      "   --------------------------------- ------ 6.6/7.8 MB 1.6 MB/s eta 0:00:01\n",
      "   --------------------------------- ------ 6.6/7.8 MB 1.6 MB/s eta 0:00:01\n",
      "   --------------------------------- ------ 6.7/7.8 MB 1.6 MB/s eta 0:00:01\n",
      "   ---------------------------------- ----- 6.7/7.8 MB 1.6 MB/s eta 0:00:01\n",
      "   ---------------------------------- ----- 6.8/7.8 MB 1.6 MB/s eta 0:00:01\n",
      "   ---------------------------------- ----- 6.8/7.8 MB 1.6 MB/s eta 0:00:01\n",
      "   ----------------------------------- ---- 6.9/7.8 MB 1.6 MB/s eta 0:00:01\n",
      "   ----------------------------------- ---- 7.0/7.8 MB 1.6 MB/s eta 0:00:01\n",
      "   ----------------------------------- ---- 7.0/7.8 MB 1.6 MB/s eta 0:00:01\n",
      "   ------------------------------------ --- 7.1/7.8 MB 1.6 MB/s eta 0:00:01\n",
      "   ------------------------------------ --- 7.1/7.8 MB 1.6 MB/s eta 0:00:01\n",
      "   ------------------------------------ --- 7.2/7.8 MB 1.6 MB/s eta 0:00:01\n",
      "   ------------------------------------ --- 7.2/7.8 MB 1.6 MB/s eta 0:00:01\n",
      "   ------------------------------------- -- 7.3/7.8 MB 1.6 MB/s eta 0:00:01\n",
      "   ------------------------------------- -- 7.3/7.8 MB 1.6 MB/s eta 0:00:01\n",
      "   ------------------------------------- -- 7.4/7.8 MB 1.6 MB/s eta 0:00:01\n",
      "   -------------------------------------- - 7.5/7.8 MB 1.6 MB/s eta 0:00:01\n",
      "   -------------------------------------- - 7.5/7.8 MB 1.6 MB/s eta 0:00:01\n",
      "   -------------------------------------- - 7.6/7.8 MB 1.5 MB/s eta 0:00:01\n",
      "   -------------------------------------- - 7.6/7.8 MB 1.5 MB/s eta 0:00:01\n",
      "   -------------------------------------- - 7.6/7.8 MB 1.5 MB/s eta 0:00:01\n",
      "   ---------------------------------------  7.7/7.8 MB 1.5 MB/s eta 0:00:01\n",
      "   ---------------------------------------  7.7/7.8 MB 1.5 MB/s eta 0:00:01\n",
      "   ---------------------------------------  7.8/7.8 MB 1.5 MB/s eta 0:00:01\n",
      "   ---------------------------------------  7.8/7.8 MB 1.5 MB/s eta 0:00:01\n",
      "   ---------------------------------------  7.8/7.8 MB 1.5 MB/s eta 0:00:01\n",
      "   ---------------------------------------- 7.8/7.8 MB 1.5 MB/s eta 0:00:00\n",
      "Using cached contourpy-1.2.1-cp312-cp312-win_amd64.whl (189 kB)\n",
      "Using cached cycler-0.12.1-py3-none-any.whl (8.3 kB)\n",
      "Using cached fonttools-4.53.1-cp312-cp312-win_amd64.whl (2.2 MB)\n",
      "Using cached kiwisolver-1.4.5-cp312-cp312-win_amd64.whl (56 kB)\n",
      "Using cached pillow-10.4.0-cp312-cp312-win_amd64.whl (2.6 MB)\n",
      "Downloading pyparsing-3.1.4-py3-none-any.whl (104 kB)\n",
      "   ---------------------------------------- 0.0/104.1 kB ? eta -:--:--\n",
      "   --------------- ------------------------ 41.0/104.1 kB 2.0 MB/s eta 0:00:01\n",
      "   ------------------------------- -------- 81.9/104.1 kB 1.2 MB/s eta 0:00:01\n",
      "   -------------------------------------  102.4/104.1 kB 980.4 kB/s eta 0:00:01\n",
      "   -------------------------------------- 104.1/104.1 kB 750.9 kB/s eta 0:00:00\n",
      "Installing collected packages: pyparsing, pillow, kiwisolver, fonttools, cycler, contourpy, matplotlib\n",
      "Successfully installed contourpy cycler fonttools kiwisolver matplotlib pillow pyparsing\n",
      "Note: you may need to restart the kernel to use updated packages.\n"
     ]
    },
    {
     "name": "stderr",
     "output_type": "stream",
     "text": [
      "\n",
      "[notice] A new release of pip is available: 24.1 -> 24.2\n",
      "[notice] To update, run: python.exe -m pip install --upgrade pip\n"
     ]
    }
   ],
   "source": [
    "pip install matplotlib \n"
   ]
  },
  {
   "cell_type": "code",
   "execution_count": 4,
   "id": "89a22ac5-fc83-4d5a-9b31-d5b474e7c40a",
   "metadata": {},
   "outputs": [
    {
     "name": "stdout",
     "output_type": "stream",
     "text": [
      "Collecting scikit-learnNote: you may need to restart the kernel to use updated packages.\n",
      "\n",
      "  Using cached scikit_learn-1.5.1-cp312-cp312-win_amd64.whl.metadata (12 kB)\n",
      "Requirement already satisfied: numpy>=1.19.5 in e:\\note\\project\\road_accidents_several_classification_ml\\myenv\\lib\\site-packages (from scikit-learn) (2.1.0)\n",
      "Collecting scipy>=1.6.0 (from scikit-learn)\n",
      "  Using cached scipy-1.14.1-cp312-cp312-win_amd64.whl.metadata (60 kB)\n",
      "Collecting joblib>=1.2.0 (from scikit-learn)\n",
      "  Using cached joblib-1.4.2-py3-none-any.whl.metadata (5.4 kB)\n",
      "Collecting threadpoolctl>=3.1.0 (from scikit-learn)\n",
      "  Using cached threadpoolctl-3.5.0-py3-none-any.whl.metadata (13 kB)\n",
      "Using cached scikit_learn-1.5.1-cp312-cp312-win_amd64.whl (10.9 MB)\n",
      "Using cached joblib-1.4.2-py3-none-any.whl (301 kB)\n",
      "Using cached scipy-1.14.1-cp312-cp312-win_amd64.whl (44.5 MB)\n",
      "Using cached threadpoolctl-3.5.0-py3-none-any.whl (18 kB)\n",
      "Installing collected packages: threadpoolctl, scipy, joblib, scikit-learn\n",
      "Successfully installed joblib scikit-learn scipy threadpoolctl\n"
     ]
    },
    {
     "name": "stderr",
     "output_type": "stream",
     "text": [
      "\n",
      "[notice] A new release of pip is available: 24.1 -> 24.2\n",
      "[notice] To update, run: python.exe -m pip install --upgrade pip\n"
     ]
    }
   ],
   "source": [
    "pip install scikit-learn"
   ]
  },
  {
   "cell_type": "code",
   "execution_count": 5,
   "id": "ed8f9498-fded-4e8a-a371-f31dc94a0be4",
   "metadata": {},
   "outputs": [
    {
     "name": "stdout",
     "output_type": "stream",
     "text": [
      "Collecting imbalanced-learn\n",
      "  Using cached imbalanced_learn-0.12.3-py3-none-any.whl.metadata (8.3 kB)\n",
      "Requirement already satisfied: numpy>=1.17.3 in e:\\note\\project\\road_accidents_several_classification_ml\\myenv\\lib\\site-packages (from imbalanced-learn) (2.1.0)\n",
      "Requirement already satisfied: scipy>=1.5.0 in e:\\note\\project\\road_accidents_several_classification_ml\\myenv\\lib\\site-packages (from imbalanced-learn) (1.14.1)\n",
      "Requirement already satisfied: scikit-learn>=1.0.2 in e:\\note\\project\\road_accidents_several_classification_ml\\myenv\\lib\\site-packages (from imbalanced-learn) (1.5.1)\n",
      "Requirement already satisfied: joblib>=1.1.1 in e:\\note\\project\\road_accidents_several_classification_ml\\myenv\\lib\\site-packages (from imbalanced-learn) (1.4.2)\n",
      "Requirement already satisfied: threadpoolctl>=2.0.0 in e:\\note\\project\\road_accidents_several_classification_ml\\myenv\\lib\\site-packages (from imbalanced-learn) (3.5.0)\n",
      "Using cached imbalanced_learn-0.12.3-py3-none-any.whl (258 kB)\n",
      "Installing collected packages: imbalanced-learn\n",
      "Successfully installed imbalanced-learn\n",
      "Note: you may need to restart the kernel to use updated packages.\n"
     ]
    },
    {
     "name": "stderr",
     "output_type": "stream",
     "text": [
      "\n",
      "[notice] A new release of pip is available: 24.1 -> 24.2\n",
      "[notice] To update, run: python.exe -m pip install --upgrade pip\n"
     ]
    }
   ],
   "source": [
    "pip install imbalanced-learn"
   ]
  },
  {
   "cell_type": "code",
   "execution_count": 7,
   "id": "404a858f-d17b-4765-a644-1a65eb9a5db6",
   "metadata": {},
   "outputs": [
    {
     "name": "stdout",
     "output_type": "stream",
     "text": [
      "Collecting seabornNote: you may need to restart the kernel to use updated packages.\n"
     ]
    },
    {
     "name": "stderr",
     "output_type": "stream",
     "text": [
      "\n",
      "[notice] A new release of pip is available: 24.1 -> 24.2\n",
      "[notice] To update, run: python.exe -m pip install --upgrade pip\n"
     ]
    },
    {
     "name": "stdout",
     "output_type": "stream",
     "text": [
      "\n",
      "  Using cached seaborn-0.13.2-py3-none-any.whl.metadata (5.4 kB)\n",
      "Requirement already satisfied: numpy!=1.24.0,>=1.20 in e:\\note\\project\\road_accidents_several_classification_ml\\myenv\\lib\\site-packages (from seaborn) (2.1.0)\n",
      "Requirement already satisfied: pandas>=1.2 in e:\\note\\project\\road_accidents_several_classification_ml\\myenv\\lib\\site-packages (from seaborn) (2.2.2)\n",
      "Requirement already satisfied: matplotlib!=3.6.1,>=3.4 in e:\\note\\project\\road_accidents_several_classification_ml\\myenv\\lib\\site-packages (from seaborn) (3.9.2)\n",
      "Requirement already satisfied: contourpy>=1.0.1 in e:\\note\\project\\road_accidents_several_classification_ml\\myenv\\lib\\site-packages (from matplotlib!=3.6.1,>=3.4->seaborn) (1.2.1)\n",
      "Requirement already satisfied: cycler>=0.10 in e:\\note\\project\\road_accidents_several_classification_ml\\myenv\\lib\\site-packages (from matplotlib!=3.6.1,>=3.4->seaborn) (0.12.1)\n",
      "Requirement already satisfied: fonttools>=4.22.0 in e:\\note\\project\\road_accidents_several_classification_ml\\myenv\\lib\\site-packages (from matplotlib!=3.6.1,>=3.4->seaborn) (4.53.1)\n",
      "Requirement already satisfied: kiwisolver>=1.3.1 in e:\\note\\project\\road_accidents_several_classification_ml\\myenv\\lib\\site-packages (from matplotlib!=3.6.1,>=3.4->seaborn) (1.4.5)\n",
      "Requirement already satisfied: packaging>=20.0 in e:\\note\\project\\road_accidents_several_classification_ml\\myenv\\lib\\site-packages (from matplotlib!=3.6.1,>=3.4->seaborn) (24.1)\n",
      "Requirement already satisfied: pillow>=8 in e:\\note\\project\\road_accidents_several_classification_ml\\myenv\\lib\\site-packages (from matplotlib!=3.6.1,>=3.4->seaborn) (10.4.0)\n",
      "Requirement already satisfied: pyparsing>=2.3.1 in e:\\note\\project\\road_accidents_several_classification_ml\\myenv\\lib\\site-packages (from matplotlib!=3.6.1,>=3.4->seaborn) (3.1.4)\n",
      "Requirement already satisfied: python-dateutil>=2.7 in e:\\note\\project\\road_accidents_several_classification_ml\\myenv\\lib\\site-packages (from matplotlib!=3.6.1,>=3.4->seaborn) (2.9.0.post0)\n",
      "Requirement already satisfied: pytz>=2020.1 in e:\\note\\project\\road_accidents_several_classification_ml\\myenv\\lib\\site-packages (from pandas>=1.2->seaborn) (2024.1)\n",
      "Requirement already satisfied: tzdata>=2022.7 in e:\\note\\project\\road_accidents_several_classification_ml\\myenv\\lib\\site-packages (from pandas>=1.2->seaborn) (2024.1)\n",
      "Requirement already satisfied: six>=1.5 in e:\\note\\project\\road_accidents_several_classification_ml\\myenv\\lib\\site-packages (from python-dateutil>=2.7->matplotlib!=3.6.1,>=3.4->seaborn) (1.16.0)\n",
      "Using cached seaborn-0.13.2-py3-none-any.whl (294 kB)\n",
      "Installing collected packages: seaborn\n",
      "Successfully installed seaborn\n"
     ]
    }
   ],
   "source": [
    "pip install seaborn"
   ]
  },
  {
   "cell_type": "code",
   "execution_count": 1,
   "id": "49b2336e-3bf1-4ee6-be14-02d8ce4d8b68",
   "metadata": {},
   "outputs": [
    {
     "name": "stdout",
     "output_type": "stream",
     "text": [
      "Note: you may need to restart the kernel to use updated packages.\n"
     ]
    },
    {
     "name": "stderr",
     "output_type": "stream",
     "text": [
      "WARNING: ERROR: Please provide a package name or names.\n"
     ]
    }
   ],
   "source": [
    "%pip show\n"
   ]
  }
 ],
 "metadata": {
  "kernelspec": {
   "display_name": "myenv",
   "language": "python",
   "name": "myenv"
  },
  "language_info": {
   "codemirror_mode": {
    "name": "ipython",
    "version": 3
   },
   "file_extension": ".py",
   "mimetype": "text/x-python",
   "name": "python",
   "nbconvert_exporter": "python",
   "pygments_lexer": "ipython3",
   "version": "3.12.4"
  }
 },
 "nbformat": 4,
 "nbformat_minor": 5
}
